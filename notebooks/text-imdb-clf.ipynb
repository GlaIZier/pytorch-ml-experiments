{
 "cells": [
  {
   "cell_type": "code",
   "execution_count": 1,
   "id": "1bba1968-68fa-49fe-89ff-a9a8777518b0",
   "metadata": {},
   "outputs": [
    {
     "name": "stderr",
     "output_type": "stream",
     "text": [
      "/Users/mkhokhlush/github/pytorch-ml-experiments/.venv/lib/python3.10/site-packages/torch/utils/data/datapipes/utils/common.py:24: UserWarning: Lambda function is not supported for pickle, please use regular python function or functools.partial instead.\n",
      "  warnings.warn(\n",
      "/Users/mkhokhlush/github/pytorch-ml-experiments/.venv/lib/python3.10/site-packages/torch/utils/data/datapipes/iter/selecting.py:54: UserWarning: Lambda function is not supported for pickle, please use regular python function or functools.partial instead.\n",
      "  warnings.warn(\"Lambda function is not supported for pickle, please use \"\n"
     ]
    }
   ],
   "source": [
    "from torchtext.datasets import IMDB\n",
    "\n",
    "train_iter = IMDB(split='train')"
   ]
  },
  {
   "cell_type": "code",
   "execution_count": 35,
   "id": "8027f0cb-1964-4a28-bcab-c7ba5ce8376e",
   "metadata": {},
   "outputs": [
    {
     "name": "stdout",
     "output_type": "stream",
     "text": [
      "neg I rented I AM CURIOUS-YELLOW from my video store because of all the controversy that surrounded it when it was first released in 1967. I also heard that at first it was seized by U.S. customs if it ever tried to enter this country, therefore being a fan of films considered \"controversial\" I really had to see this for myself.<br /><br />The plot is centered around a young Swedish drama student named Lena who wants to learn everything she can about life. In particular she wants to focus her attentions to making some sort of documentary on what the average Swede thought about certain political issues such as the Vietnam War and race issues in the United States. In between asking politicians and ordinary denizens of Stockholm about their opinions on politics, she has sex with her drama teacher, classmates, and married men.<br /><br />What kills me about I AM CURIOUS-YELLOW is that 40 years ago, this was considered pornographic. Really, the sex and nudity scenes are few and far between, even then it's not shot like some cheaply made porno. While my countrymen mind find it shocking, in reality sex and nudity are a major staple in Swedish cinema. Even Ingmar Bergman, arguably their answer to good old boy John Ford, had sex scenes in his films.<br /><br />I do commend the filmmakers for the fact that any sex shown in the film is shown for artistic purposes rather than just to shock people and make money to be shown in pornographic theaters in America. I AM CURIOUS-YELLOW is a good film for anyone wanting to study the meat and potatoes (no pun intended) of Swedish cinema. But really, this film doesn't have much of a plot.\n"
     ]
    }
   ],
   "source": [
    "for label, line in train_iter:\n",
    "    print(label, line)\n",
    "    break"
   ]
  },
  {
   "cell_type": "code",
   "execution_count": 19,
   "id": "b4fc21d0-576d-4416-b4af-1eb3e6715258",
   "metadata": {},
   "outputs": [
    {
     "name": "stderr",
     "output_type": "stream",
     "text": [
      "/Users/mkhokhlush/github/pytorch-ml-experiments/.venv/lib/python3.10/site-packages/torch/utils/data/datapipes/iter/combining.py:180: UserWarning: Some child DataPipes are not exhausted when __iter__ is called. We are resetting the buffer and each child DataPipe will read from the start again.\n",
      "  warnings.warn(\"Some child DataPipes are not exhausted when __iter__ is called. We are resetting \"\n"
     ]
    }
   ],
   "source": [
    "from torchtext.data.utils import get_tokenizer\n",
    "from torchtext.vocab import build_vocab_from_iterator\n",
    "\n",
    "tokenizer = get_tokenizer('basic_english')\n",
    "\n",
    "def yield_tokens(data_iter):\n",
    "    for _, text in data_iter:\n",
    "        yield tokenizer(text)\n",
    "\n",
    "vocab = build_vocab_from_iterator(yield_tokens(train_iter), specials=[\"<unk>\"])\n",
    "vocab.set_default_index(vocab[\"<unk>\"])"
   ]
  },
  {
   "cell_type": "code",
   "execution_count": 28,
   "id": "8ce32bca-79e1-47be-8cfc-8c2ff600536d",
   "metadata": {},
   "outputs": [
    {
     "name": "stdout",
     "output_type": "stream",
     "text": [
      "['here', 'is', 'an', 'example', 'the', 'fdfaf']\n",
      "[131, 9, 40, 464, 1, 0]\n"
     ]
    },
    {
     "data": {
      "text/plain": [
       "['<unk>', 'the', '.', ',', 'and', 'a', 'of', 'to', \"'\", 'is']"
      ]
     },
     "execution_count": 28,
     "metadata": {},
     "output_type": "execute_result"
    }
   ],
   "source": [
    "print(tokenizer(\"here is an example the fdfaf\"))\n",
    "print(vocab(['here', 'is', 'an', 'example', 'the', 'fdfaf']))\n",
    "vocab.get_itos()[:10]"
   ]
  },
  {
   "cell_type": "code",
   "execution_count": 36,
   "id": "645bac83-a5c5-4d17-a4c0-5390b8df045e",
   "metadata": {},
   "outputs": [
    {
     "name": "stdout",
     "output_type": "stream",
     "text": [
      "[12, 1567, 12, 245, 35467, 42, 63, 397, 1134, 91, 6, 36, 1, 7125, 14, 3362, 10, 59, 10, 16, 93, 628, 11, 6920, 2, 12, 86, 552, 14, 37, 93, 10, 16, 20192, 39, 1224, 2, 15, 2, 9262, 50, 10, 130, 779, 7, 2479, 13, 681, 3, 1574, 117, 5, 341, 6, 113, 1159, 3051, 12, 71, 74, 7, 73, 13, 18, 536, 2, 1, 120, 9, 5958, 193, 5, 190, 3861, 473, 1423, 765, 4313, 41, 488, 7, 833, 286, 60, 57, 49, 126, 2, 11, 825, 60, 488, 7, 1131, 46, 11858, 7, 256, 55, 440, 6, 668, 27, 53, 1, 862, 29736, 208, 49, 780, 1000, 1303, 146, 17, 1, 2674, 336, 4, 1509, 1303, 11, 1, 2358, 1591, 2, 11, 202, 2181, 7270, 4, 1918, 19585, 6, 21477, 49, 72, 4655, 27, 2380, 3, 60, 51, 401, 19, 46, 473, 1691, 3, 8134, 3, 4, 998, 346, 2, 53, 1079, 77, 49, 12, 245, 35467, 9, 14, 1613, 160, 586, 3, 13, 16, 1159, 8205, 2, 71, 3, 1, 401, 4, 999, 144, 30, 174, 4, 241, 202, 3, 62, 100, 10, 8, 15, 28, 329, 44, 55, 6654, 99, 4460, 2, 142, 63, 23464, 347, 171, 10, 1573, 3, 11, 634, 401, 4, 999, 30, 5, 662, 10197, 11, 3861, 436, 2, 62, 14515, 4440, 3, 4633, 72, 1475, 7, 56, 175, 434, 303, 1720, 3, 74, 401, 144, 11, 31, 113, 2, 12, 90, 12611, 1, 1022, 18, 1, 197, 14, 106, 401, 607, 11, 1, 22, 9, 607, 18, 1576, 5041, 250, 78, 48, 7, 1497, 84, 4, 104, 279, 7, 33, 607, 11, 8205, 2180, 11, 834, 2, 12, 245, 35467, 9, 5, 56, 22, 18, 255, 1751, 7, 2057, 1, 3750, 4, 18992, 24, 64, 5229, 1399, 23, 6, 3861, 436, 2, 21, 71, 3, 13, 22, 158, 8, 26, 32, 80, 6, 5, 120, 2]\n",
      "0\n"
     ]
    }
   ],
   "source": [
    "text_pipeline = lambda line: vocab(tokenizer(line))\n",
    "label_pipeline = lambda label: 0 if label == \"neg\" else 1\n",
    "\n",
    "for label, line in train_iter:\n",
    "    print(text_pipeline(line))\n",
    "    print(label_pipeline(label))\n",
    "    break"
   ]
  }
 ],
 "metadata": {
  "kernelspec": {
   "display_name": "Python 3 (ipykernel)",
   "language": "python",
   "name": "python3"
  },
  "language_info": {
   "codemirror_mode": {
    "name": "ipython",
    "version": 3
   },
   "file_extension": ".py",
   "mimetype": "text/x-python",
   "name": "python",
   "nbconvert_exporter": "python",
   "pygments_lexer": "ipython3",
   "version": "3.10.4"
  }
 },
 "nbformat": 4,
 "nbformat_minor": 5
}
